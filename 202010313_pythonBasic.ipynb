{
  "nbformat": 4,
  "nbformat_minor": 0,
  "metadata": {
    "colab": {
      "name": "202010313_pythonBasic.ipynb",
      "provenance": [],
      "collapsed_sections": [],
      "authorship_tag": "ABX9TyMyJh9my/6swLu048Nej5G3",
      "include_colab_link": true
    },
    "kernelspec": {
      "name": "python3",
      "display_name": "Python 3"
    }
  },
  "cells": [
    {
      "cell_type": "markdown",
      "metadata": {
        "id": "view-in-github",
        "colab_type": "text"
      },
      "source": [
        "<a href=\"https://colab.research.google.com/github/ycl818/deepLearning/blob/main/202010313_pythonBasic.ipynb\" target=\"_parent\"><img src=\"https://colab.research.google.com/assets/colab-badge.svg\" alt=\"Open In Colab\"/></a>"
      ]
    },
    {
      "cell_type": "markdown",
      "metadata": {
        "id": "PbYO0SUpKVGh"
      },
      "source": [
        "###練習題\r\n",
        "我們希望建立一個對話機器人, 機器人裡面內建一個資料問答資料庫, 資料庫的問題跟答案如下所示:\r\n",
        "\r\n",
        "問題:我要保保險 答案: 以下是我們推薦的險總類\r\n",
        "問題:我要貸款 答案: 以下是我們推薦的貸款總類\r\n",
        "問題:我要查餘額 答案: 以下是您的銀行存款餘額\r\n",
        "希望你能用這個問答資料庫建立成一個Python 字典, 當使用者輸入問題時, 可以根據問答資料庫回答答案, 但是如果問題不在資料庫之中，請答：我現在還不聰明，等我變聰明以後再回答你\r\n",
        "\r\n",
        "提示: 要使用 get 的語法"
      ]
    },
    {
      "cell_type": "code",
      "metadata": {
        "colab": {
          "base_uri": "https://localhost:8080/"
        },
        "id": "7dcJEdKQKXRH",
        "outputId": "a2a55208-62d6-4fdd-afc1-ee9f8c1bb304"
      },
      "source": [
        "q = input('input your question: ')\r\n",
        "dic = {'我要保保險':'以下是我們推薦的險總類',\r\n",
        "       '我要貸款':'以下是我們推薦的貸款總類',\r\n",
        "       '我要查餘額 ':'以下是您的銀行存款餘額'\r\n",
        "       }\r\n",
        "print(dic.get(q,'我現在還不聰明，等我變聰明以後再回答你'))\r\n"
      ],
      "execution_count": 11,
      "outputs": [
        {
          "output_type": "stream",
          "text": [
            "input your question: 我要貸款\n",
            "以下是我們推薦的貸款總類\n"
          ],
          "name": "stdout"
        }
      ]
    },
    {
      "cell_type": "code",
      "metadata": {
        "colab": {
          "base_uri": "https://localhost:8080/"
        },
        "id": "Z8swR8gjaPtT",
        "outputId": "323299ea-d184-4491-92eb-d6636ff6f569"
      },
      "source": [
        "for i in dic:\r\n",
        "  print(i,dic[i])"
      ],
      "execution_count": 14,
      "outputs": [
        {
          "output_type": "stream",
          "text": [
            "我要保保險 以下是我們推薦的險總類\n",
            "我要貸款 以下是我們推薦的貸款總類\n",
            "我要查餘額  以下是您的銀行存款餘額\n"
          ],
          "name": "stdout"
        }
      ]
    },
    {
      "cell_type": "code",
      "metadata": {
        "colab": {
          "base_uri": "https://localhost:8080/"
        },
        "id": "nBsBd2B9aX9_",
        "outputId": "cc7beaeb-a22c-40d3-aba1-fed91f3b01d3"
      },
      "source": [
        "for i in dic:\r\n",
        "  print(i,dic.get(i))"
      ],
      "execution_count": 15,
      "outputs": [
        {
          "output_type": "stream",
          "text": [
            "我要保保險 以下是我們推薦的險總類\n",
            "我要貸款 以下是我們推薦的貸款總類\n",
            "我要查餘額  以下是您的銀行存款餘額\n"
          ],
          "name": "stdout"
        }
      ]
    },
    {
      "cell_type": "code",
      "metadata": {
        "colab": {
          "base_uri": "https://localhost:8080/"
        },
        "id": "OXyptx8qLJ2S",
        "outputId": "81e274a3-d2b1-4b84-d91b-9d9ba900dc89"
      },
      "source": [
        "import this"
      ],
      "execution_count": 12,
      "outputs": [
        {
          "output_type": "stream",
          "text": [
            "The Zen of Python, by Tim Peters\n",
            "\n",
            "Beautiful is better than ugly.\n",
            "Explicit is better than implicit.\n",
            "Simple is better than complex.\n",
            "Complex is better than complicated.\n",
            "Flat is better than nested.\n",
            "Sparse is better than dense.\n",
            "Readability counts.\n",
            "Special cases aren't special enough to break the rules.\n",
            "Although practicality beats purity.\n",
            "Errors should never pass silently.\n",
            "Unless explicitly silenced.\n",
            "In the face of ambiguity, refuse the temptation to guess.\n",
            "There should be one-- and preferably only one --obvious way to do it.\n",
            "Although that way may not be obvious at first unless you're Dutch.\n",
            "Now is better than never.\n",
            "Although never is often better than *right* now.\n",
            "If the implementation is hard to explain, it's a bad idea.\n",
            "If the implementation is easy to explain, it may be a good idea.\n",
            "Namespaces are one honking great idea -- let's do more of those!\n"
          ],
          "name": "stdout"
        }
      ]
    },
    {
      "cell_type": "code",
      "metadata": {
        "id": "VUqp4ijtVzPM"
      },
      "source": [
        ""
      ],
      "execution_count": null,
      "outputs": []
    },
    {
      "cell_type": "markdown",
      "metadata": {
        "id": "758NN8BleQK_"
      },
      "source": [
        "###練習題\r\n",
        "我們希望建立一個對話機器人, 機器人裡面內建一個資料問答資料庫, 資料庫的問題跟答案如下所示:\r\n",
        "\r\n",
        "問題:保險 答案: 以下是我們推薦的險總類\r\n",
        "問題:貸款 答案: 以下是我們推薦的貸款總類\r\n",
        "問題:存款 答案: 以下是您的銀行存款餘額\r\n",
        "希望你能用這個問答資料庫建立成一個Python 字典, 當使用者輸入問題時, 只要問題中有部分關鍵字對到問答資料庫的問題,電腦就予以回答"
      ]
    },
    {
      "cell_type": "code",
      "metadata": {
        "colab": {
          "base_uri": "https://localhost:8080/"
        },
        "id": "BooYD4J8eSj6",
        "outputId": "f1bc26fd-b518-426f-ce0c-67efc569acec"
      },
      "source": [
        "question = input('input your question')\r\n",
        "dic = {'保險':'以下是我們推薦的險總類',\r\n",
        "       '貸款':'以下是我們推薦的貸款總類',\r\n",
        "       '存款 ':'以下是您的銀行存款餘額'\r\n",
        "       }\r\n",
        "for q in dic:\r\n",
        "  if q in question:\r\n",
        "    print(dic.get(q))\r\n",
        "    break\r\n",
        "else:\r\n",
        "    print('我現在還不聰明，等我變聰明以後再回答你')\r\n",
        "\r\n"
      ],
      "execution_count": 31,
      "outputs": [
        {
          "output_type": "stream",
          "text": [
            "input your question我要保保險\n",
            "以下是我們推薦的險總類\n"
          ],
          "name": "stdout"
        }
      ]
    },
    {
      "cell_type": "code",
      "metadata": {
        "colab": {
          "base_uri": "https://localhost:8080/"
        },
        "id": "ihWxXaZQfAmt",
        "outputId": "3dd35b10-7fa7-4f67-b1c2-2e65c86c1514"
      },
      "source": [
        "i = '1,000,000'\r\n",
        "print(i)\r\n",
        "def dollar_convert(i):\r\n",
        "  i = i.replace(',','')\r\n",
        "  return int(i)\r\n",
        "\r\n",
        "dollar_convert(i)"
      ],
      "execution_count": 42,
      "outputs": [
        {
          "output_type": "stream",
          "text": [
            "1,000,000\n"
          ],
          "name": "stdout"
        },
        {
          "output_type": "execute_result",
          "data": {
            "text/plain": [
              "1000000"
            ]
          },
          "metadata": {
            "tags": []
          },
          "execution_count": 42
        }
      ]
    },
    {
      "cell_type": "code",
      "metadata": {
        "id": "PJo-PVVpsGSF"
      },
      "source": [
        " "
      ],
      "execution_count": null,
      "outputs": []
    },
    {
      "cell_type": "code",
      "metadata": {
        "id": "XVOfl9wet88B"
      },
      "source": [
        "import numpy as np\r\n",
        "s = np.array([[2,3,4],[1,2,3]])"
      ],
      "execution_count": 35,
      "outputs": []
    },
    {
      "cell_type": "code",
      "metadata": {
        "colab": {
          "base_uri": "https://localhost:8080/"
        },
        "id": "VO_q5R-HuEhw",
        "outputId": "e5e6ff34-8171-4408-dae2-dc0773508612"
      },
      "source": [
        "s"
      ],
      "execution_count": 36,
      "outputs": [
        {
          "output_type": "execute_result",
          "data": {
            "text/plain": [
              "array([[2, 3, 4],\n",
              "       [1, 2, 3]])"
            ]
          },
          "metadata": {
            "tags": []
          },
          "execution_count": 36
        }
      ]
    },
    {
      "cell_type": "code",
      "metadata": {
        "colab": {
          "base_uri": "https://localhost:8080/"
        },
        "id": "v421fBg-uE2F",
        "outputId": "c90826c8-d82b-4a1a-d814-30fd64b46a74"
      },
      "source": [
        "s.shape"
      ],
      "execution_count": 37,
      "outputs": [
        {
          "output_type": "execute_result",
          "data": {
            "text/plain": [
              "(2, 3)"
            ]
          },
          "metadata": {
            "tags": []
          },
          "execution_count": 37
        }
      ]
    },
    {
      "cell_type": "code",
      "metadata": {
        "colab": {
          "base_uri": "https://localhost:8080/"
        },
        "id": "teJggycduG57",
        "outputId": "769b8b33-13f2-4c72-e3b5-8abe4f6c5c58"
      },
      "source": [
        "s.shape[0]"
      ],
      "execution_count": 39,
      "outputs": [
        {
          "output_type": "execute_result",
          "data": {
            "text/plain": [
              "2"
            ]
          },
          "metadata": {
            "tags": []
          },
          "execution_count": 39
        }
      ]
    },
    {
      "cell_type": "markdown",
      "metadata": {
        "id": "edo4hzxRwnGS"
      },
      "source": [
        "#Third Party Tool"
      ]
    },
    {
      "cell_type": "code",
      "metadata": {
        "colab": {
          "base_uri": "https://localhost:8080/"
        },
        "id": "h2IUonR6uJO6",
        "outputId": "90c3a773-c602-42d7-c54d-a11c9d7964d7"
      },
      "source": [
        "!pip install SpeechRecognition"
      ],
      "execution_count": 43,
      "outputs": [
        {
          "output_type": "stream",
          "text": [
            "Collecting SpeechRecognition\n",
            "\u001b[?25l  Downloading https://files.pythonhosted.org/packages/26/e1/7f5678cd94ec1234269d23756dbdaa4c8cfaed973412f88ae8adf7893a50/SpeechRecognition-3.8.1-py2.py3-none-any.whl (32.8MB)\n",
            "\u001b[K     |████████████████████████████████| 32.8MB 116kB/s \n",
            "\u001b[?25hInstalling collected packages: SpeechRecognition\n",
            "Successfully installed SpeechRecognition-3.8.1\n"
          ],
          "name": "stdout"
        }
      ]
    },
    {
      "cell_type": "code",
      "metadata": {
        "id": "lpsxn7XMwssD"
      },
      "source": [
        ""
      ],
      "execution_count": null,
      "outputs": []
    },
    {
      "cell_type": "markdown",
      "metadata": {
        "id": "m_x1oyY70FkL"
      },
      "source": [
        "#File"
      ]
    },
    {
      "cell_type": "code",
      "metadata": {
        "id": "eughsx8R0Hcl"
      },
      "source": [
        "# w: write, r: read, a:append\r\n",
        "fid = open('test.txt','w')\r\n",
        "fid.write('Hello\\nWorld')\r\n",
        "fid.close()"
      ],
      "execution_count": 45,
      "outputs": []
    },
    {
      "cell_type": "code",
      "metadata": {
        "id": "_J2fqY9m0TMp"
      },
      "source": [
        "with open('test.txt', 'w') as fid:\r\n",
        "  fid.write('Hello\\nWorld')"
      ],
      "execution_count": 47,
      "outputs": []
    },
    {
      "cell_type": "code",
      "metadata": {
        "colab": {
          "base_uri": "https://localhost:8080/"
        },
        "id": "Q56xhbVo0msS",
        "outputId": "728dffac-d48c-4e82-8244-4f24a341d17c"
      },
      "source": [
        "with open('test.txt', 'r') as fid:\r\n",
        "  for line in fid.readlines():\r\n",
        "    print(line.strip())"
      ],
      "execution_count": 50,
      "outputs": [
        {
          "output_type": "stream",
          "text": [
            "Hello\n",
            "World\n"
          ],
          "name": "stdout"
        }
      ]
    },
    {
      "cell_type": "code",
      "metadata": {
        "colab": {
          "base_uri": "https://localhost:8080/",
          "height": 35
        },
        "id": "o9yRQAeW0z5j",
        "outputId": "701ab63d-1d98-4dab-d3aa-0dc66e974208"
      },
      "source": [
        "with open('test.txt', 'r') as fid:\r\n",
        "  data = fid.read()\r\n",
        "data"
      ],
      "execution_count": 52,
      "outputs": [
        {
          "output_type": "execute_result",
          "data": {
            "application/vnd.google.colaboratory.intrinsic+json": {
              "type": "string"
            },
            "text/plain": [
              "'Hello\\nWorld'"
            ]
          },
          "metadata": {
            "tags": []
          },
          "execution_count": 52
        }
      ]
    },
    {
      "cell_type": "code",
      "metadata": {
        "colab": {
          "base_uri": "https://localhost:8080/"
        },
        "id": "t_cU2GSk1IVd",
        "outputId": "1e13bcd1-5436-4461-e02b-fbe29151c092"
      },
      "source": [
        "count = 0\r\n",
        "with open('test.txt', 'r') as fid:\r\n",
        "  for line in fid.readlines():\r\n",
        "    count+=1\r\n",
        "count"
      ],
      "execution_count": 54,
      "outputs": [
        {
          "output_type": "execute_result",
          "data": {
            "text/plain": [
              "2"
            ]
          },
          "metadata": {
            "tags": []
          },
          "execution_count": 54
        }
      ]
    },
    {
      "cell_type": "code",
      "metadata": {
        "id": "zAutXREs1UgX"
      },
      "source": [
        "ary=[]\r\n",
        "with open('test.txt', 'r') as fid:\r\n",
        "  for line in fid:\r\n",
        "    ary.append(line)"
      ],
      "execution_count": 56,
      "outputs": []
    },
    {
      "cell_type": "code",
      "metadata": {
        "colab": {
          "base_uri": "https://localhost:8080/"
        },
        "id": "2pfexW_61h7I",
        "outputId": "d5674530-e0f7-4912-a870-cf5dbef18334"
      },
      "source": [
        "ary"
      ],
      "execution_count": 57,
      "outputs": [
        {
          "output_type": "execute_result",
          "data": {
            "text/plain": [
              "['Hello\\n', 'World']"
            ]
          },
          "metadata": {
            "tags": []
          },
          "execution_count": 57
        }
      ]
    },
    {
      "cell_type": "code",
      "metadata": {
        "colab": {
          "base_uri": "https://localhost:8080/"
        },
        "id": "TBRFJy9p1k3p",
        "outputId": "a82cdf0f-a775-4162-8a4a-1e6448bbfc7f"
      },
      "source": [
        "[line for line in open('test.txt', 'r')]"
      ],
      "execution_count": 58,
      "outputs": [
        {
          "output_type": "execute_result",
          "data": {
            "text/plain": [
              "['Hello\\n', 'World']"
            ]
          },
          "metadata": {
            "tags": []
          },
          "execution_count": 58
        }
      ]
    },
    {
      "cell_type": "code",
      "metadata": {
        "colab": {
          "base_uri": "https://localhost:8080/"
        },
        "id": "OPqQCIVa1x3V",
        "outputId": "de1f4e05-8394-4cf2-f0bb-3c9dac46c261"
      },
      "source": [
        "! wget https://raw.githubusercontent.com/ywchiu/tibamepy/master/data/trump.txt"
      ],
      "execution_count": 59,
      "outputs": [
        {
          "output_type": "stream",
          "text": [
            "--2021-03-13 09:10:18--  https://raw.githubusercontent.com/ywchiu/tibamepy/master/data/trump.txt\n",
            "Resolving raw.githubusercontent.com (raw.githubusercontent.com)... 185.199.108.133, 185.199.109.133, 185.199.110.133, ...\n",
            "Connecting to raw.githubusercontent.com (raw.githubusercontent.com)|185.199.108.133|:443... connected.\n",
            "HTTP request sent, awaiting response... 200 OK\n",
            "Length: 8736 (8.5K) [text/plain]\n",
            "Saving to: ‘trump.txt’\n",
            "\n",
            "\rtrump.txt             0%[                    ]       0  --.-KB/s               \rtrump.txt           100%[===================>]   8.53K  --.-KB/s    in 0s      \n",
            "\n",
            "2021-03-13 09:10:18 (89.6 MB/s) - ‘trump.txt’ saved [8736/8736]\n",
            "\n"
          ],
          "name": "stdout"
        }
      ]
    },
    {
      "cell_type": "code",
      "metadata": {
        "id": "kpLGQ-m12cdt"
      },
      "source": [
        "with open('trump.txt', 'r', encoding='latin1') as f:\r\n",
        "  speech = f.read()"
      ],
      "execution_count": 60,
      "outputs": []
    },
    {
      "cell_type": "code",
      "metadata": {
        "colab": {
          "base_uri": "https://localhost:8080/"
        },
        "id": "0WnxRDjS3OAC",
        "outputId": "a76b39c0-3c7b-4e18-b186-2e9fa0411428"
      },
      "source": [
        "a = [1,2,2,1,2,3]\r\n",
        "dic = {}\r\n",
        "for ele in a: \r\n",
        "  if ele not in dic:\r\n",
        "    dic[ele] = 1\r\n",
        "  else:\r\n",
        "    dic[ele] = dic[ele] + 1\r\n",
        "dic"
      ],
      "execution_count": 68,
      "outputs": [
        {
          "output_type": "execute_result",
          "data": {
            "text/plain": [
              "{1: 2, 2: 3, 3: 1}"
            ]
          },
          "metadata": {
            "tags": []
          },
          "execution_count": 68
        }
      ]
    },
    {
      "cell_type": "code",
      "metadata": {
        "colab": {
          "base_uri": "https://localhost:8080/"
        },
        "id": "Oo2QGRr74Bz1",
        "outputId": "25a65d42-3e6b-43f7-db66-25a87e9b117f"
      },
      "source": [
        "dic.items()"
      ],
      "execution_count": 69,
      "outputs": [
        {
          "output_type": "execute_result",
          "data": {
            "text/plain": [
              "dict_items([(1, 2), (2, 3), (3, 1)])"
            ]
          },
          "metadata": {
            "tags": []
          },
          "execution_count": 69
        }
      ]
    },
    {
      "cell_type": "code",
      "metadata": {
        "colab": {
          "base_uri": "https://localhost:8080/"
        },
        "id": "c3IPe_lW4GXP",
        "outputId": "b5317ef3-0723-4092-fd20-09e6d6bd0fd4"
      },
      "source": [
        "sorted(dic.items(), key = lambda e: e[1])"
      ],
      "execution_count": 70,
      "outputs": [
        {
          "output_type": "execute_result",
          "data": {
            "text/plain": [
              "[(3, 1), (1, 2), (2, 3)]"
            ]
          },
          "metadata": {
            "tags": []
          },
          "execution_count": 70
        }
      ]
    },
    {
      "cell_type": "code",
      "metadata": {
        "colab": {
          "base_uri": "https://localhost:8080/",
          "height": 136
        },
        "id": "UJY0uUg62ofo",
        "outputId": "8befedff-7fb0-40f8-fe3c-ec0c9b519606"
      },
      "source": [
        "speech"
      ],
      "execution_count": 61,
      "outputs": [
        {
          "output_type": "execute_result",
          "data": {
            "application/vnd.google.colaboratory.intrinsic+json": {
              "type": "string"
            },
            "text/plain": [
              "\"The Inaugural Address\\n\\n\\nREMARKS OF PRESIDENT DONALD J.  TRUMP ¡V AS PREPARED FOR DELIVERY\\nINAUGURAL ADDRESS\\nFRIDAY, JANUARY 20, 2017\\nWASHINGTON, D.C.\\nAs Prepared for Delivery ¡V\\n\\nChief Justice Roberts, President Carter, President Clinton, President Bush, President Obama, fellow Americans, and people of the world: thank you.\\n\\nWe, the citizens of America, are now joined in a great national effort to rebuild our country and to restore its promise for all of our people.\\n\\nTogether, we will determine the course of America and the world for years to come.\\n\\nWe will face challenges. We will confront hardships. But we will get the job done.\\n\\nEvery four years, we gather on these steps to carry out the orderly and peaceful transfer of power, and we are grateful to President Obama and First Lady Michelle Obama for their gracious aid throughout this transition. They have been magnificent.\\n\\nToday¡¦s ceremony, however, has very special meaning. Because today we are not merely transferring power from one Administration to another, or from one party to another ¡V but we are transferring power from Washington, D.C. and giving it back to you, the American People.\\n\\nFor too long, a small group in our nation¡¦s Capital has reaped the rewards of government while the people have borne the cost.\\n\\nWashington flourished ¡V but the people did not share in its wealth.\\n\\nPoliticians prospered ¡V but the jobs left, and the factories closed.\\n\\nThe establishment protected itself, but not the citizens of our country.\\n\\nTheir victories have not been your victories; their triumphs have not been your triumphs; and while they celebrated in our nation¡¦s Capital, there was little to celebrate for struggling families all across our land.\\n\\nThat all changes ¡V starting right here, and right now, because this moment is your moment: it belongs to you.\\n\\nIt belongs to everyone gathered here today and everyone watching all across America. \\n\\nThis is your day. This is your celebration.\\n\\nAnd this, the United States of America, is your country.\\n\\nWhat truly matters is not which party controls our government, but whether our government is controlled by the people.\\n\\nJanuary 20th 2017, will be remembered as the day the people became the rulers of this nation again. \\n\\nThe forgotten men and women of our country will be forgotten no longer.\\n\\nEveryone is listening to you now.\\n\\nYou came by the tens of millions to become part of a historic movement the likes of which the world has never seen before.\\n\\nAt the center of this movement is a crucial conviction: that a nation exists to serve its citizens.\\n\\nAmericans want great schools for their children, safe neighborhoods for their families, and good jobs for themselves.\\n\\nThese are the just and reasonable demands of a righteous public.\\n\\nBut for too many of our citizens, a different reality exists: Mothers and children trapped in poverty in our inner cities; rusted-out factories scattered like tombstones across the landscape of our nation; an education system, flush with cash, but which leaves our young and beautiful students deprived of knowledge; and the crime and gangs and drugs that have stolen too many lives and robbed our country of so much unrealized potential.\\n\\nThis American carnage stops right here and stops right now.\\n\\nWe are one nation ¡V and their pain is our pain.  Their dreams are our dreams; and their success will be our success.  We share one heart, one home, and one glorious destiny.\\n\\nThe oath of office I take today is an oath of allegiance to all Americans.\\n\\nFor many decades, we¡¦ve enriched foreign industry at the expense of American industry;\\n\\nSubsidized the armies of other countries while allowing for the very sad depletion of our military;\\n\\nWe've defended other nation¡¦s borders while refusing to defend our own;\\n\\nAnd spent trillions of dollars overseas while America's infrastructure has fallen into disrepair and decay.\\n\\nWe¡¦ve made other countries rich while the wealth, strength, and confidence of our country has disappeared over the horizon.\\n\\nOne by one, the factories shuttered and left our shores, with not even a thought about the millions upon millions of American workers left behind.\\n\\nThe wealth of our middle class has been ripped from their homes and then redistributed across the entire world.\\n\\nBut that is the past. And now we are looking only to the future.\\n\\nWe assembled here today are issuing a new decree to be heard in every city, in every foreign capital, and in every hall of power.\\n\\nFrom this day forward, a new vision will govern our land.\\n\\nFrom this moment on, it¡¦s going to be America First.\\n\\nEvery decision on trade, on taxes, on immigration, on foreign affairs, will be made to benefit American workers and American families.\\n\\nWe must protect our borders from the ravages of other countries making our products, stealing our companies, and destroying our jobs.  Protection will lead to great prosperity and strength.\\n\\nI will fight for you with every breath in my body ¡V and I will never, ever let you down.\\n\\nAmerica will start winning again, winning like never before.\\n\\nWe will bring back our jobs. We will bring back our borders.  We will bring back our wealth.  And we will bring back our dreams.\\n\\nWe will build new roads, and highways, and bridges, and airports, and tunnels, and railways all across our wonderful nation.\\n\\nWe will get our people off of welfare and back to work ¡V rebuilding our country with American hands and American labor.\\n\\nWe will follow two simple rules: Buy American and Hire American.\\n\\nWe will seek friendship and goodwill with the nations of the world ¡V but we do so with the understanding that it is the right of all nations to put their own interests first.\\n\\nWe do not seek to impose our way of life on anyone, but rather to let it shine as an example for everyone to follow.\\n\\nWe will reinforce old alliances and form new ones ¡V and unite the civilized world against Radical Islamic Terrorism, which we will eradicate completely from the face of the Earth.\\n\\nAt the bedrock of our politics will be a total allegiance to the United States of America, and through our loyalty to our country, we will rediscover our loyalty to each other.\\n\\nWhen you open your heart to patriotism, there is no room for prejudice.\\n\\nThe Bible tells us, ¡§how good and pleasant it is when God¡¦s people live together in unity.¡¨\\n\\nWe must speak our minds openly, debate our disagreements honestly, but always pursue solidarity.\\n\\nWhen America is united, America is totally unstoppable.\\n\\nThere should be no fear ¡V we are protected, and we will always be protected.\\n\\nWe will be protected by the great men and women of our military and law enforcement and, most importantly, we are protected by God.\\n\\nFinally, we must think big and dream even bigger.\\n\\nIn America, we understand that a nation is only living as long as it is striving.\\n\\nWe will no longer accept politicians who are all talk and no action ¡V constantly complaining but never doing anything about it.\\n\\nThe time for empty talk is over.\\n\\nNow arrives the hour of action.\\n\\nDo not let anyone tell you it cannot be done.  No challenge can match the heart and fight and spirit of America.\\n\\nWe will not fail. Our country will thrive and prosper again.\\n\\nWe stand at the birth of a new millennium, ready to unlock the mysteries of space, to free the Earth from the miseries of disease, and to harness the energies, industries and technologies of tomorrow.\\n\\nA new national pride will stir our souls, lift our sights, and heal our divisions.\\n\\nIt is time to remember that old wisdom our soldiers will never forget: that whether we are black or brown or white, we all bleed the same red blood of patriots, we all enjoy the same glorious freedoms, and we all salute the same great American Flag.\\n\\nAnd whether a child is born in the urban sprawl of Detroit or the windswept plains of Nebraska, they look up at the same night sky, they fill their heart with the same dreams, and they are infused with the breath of life by the same almighty Creator.\\n\\nSo to all Americans, in every city near and far, small and large, from mountain to mountain, and from ocean to ocean, hear these words:\\n\\nYou will never be ignored again.\\n\\nYour voice, your hopes, and your dreams, will define our American destiny. And your courage and goodness and love will forever guide us along the way.\\n\\nTogether, We Will Make America Strong Again.\\n\\nWe Will Make America Wealthy Again.\\n\\nWe Will Make America Proud Again.\\n\\nWe Will Make America Safe Again.\\n\\nAnd, Yes, Together, We Will Make America Great Again. Thank you, God Bless You, And God Bless America.\""
            ]
          },
          "metadata": {
            "tags": []
          },
          "execution_count": 61
        }
      ]
    },
    {
      "cell_type": "code",
      "metadata": {
        "id": "xxJgwZct2pY8"
      },
      "source": [
        "words = speech.lower().split()"
      ],
      "execution_count": 81,
      "outputs": []
    },
    {
      "cell_type": "code",
      "metadata": {
        "colab": {
          "base_uri": "https://localhost:8080/"
        },
        "id": "I80H1Id72w4P",
        "outputId": "aec8eae0-018a-4c50-a2dc-8563661ae4c0"
      },
      "source": [
        "type(words)"
      ],
      "execution_count": 82,
      "outputs": [
        {
          "output_type": "execute_result",
          "data": {
            "text/plain": [
              "list"
            ]
          },
          "metadata": {
            "tags": []
          },
          "execution_count": 82
        }
      ]
    },
    {
      "cell_type": "code",
      "metadata": {
        "id": "CPT-cvwa5BLJ"
      },
      "source": [
        "stopwords =[\"a\", \"about\", \"above\", \"above\", \"across\", \"after\", \"afterwards\", \"again\", \"against\", \"all\", \"almost\", \"alone\", \"along\", \"already\", \"also\",\"although\",\"always\",\"am\",\"among\", \"amongst\", \"amoungst\", \"amount\",  \"an\", \"and\", \"another\", \"any\",\"anyhow\",\"anyone\",\"anything\",\"anyway\", \"anywhere\", \"are\", \"around\", \"as\",  \"at\", \"back\",\"be\",\"became\", \"because\",\"become\",\"becomes\", \"becoming\", \"been\", \"before\", \"beforehand\", \"behind\", \"being\", \"below\", \"beside\", \"besides\", \"between\", \"beyond\", \"bill\", \"both\", \"bottom\",\"but\", \"by\", \"call\", \"can\", \"cannot\", \"cant\", \"co\", \"con\", \"could\", \"couldnt\", \"cry\", \"de\", \"describe\", \"detail\", \"do\", \"done\", \"down\", \"due\", \"during\", \"each\", \"eg\", \"eight\", \"either\", \"eleven\",\"else\", \"elsewhere\", \"empty\", \"enough\", \"etc\", \"even\", \"ever\", \"every\", \"everyone\", \"everything\", \"everywhere\", \"except\", \"few\", \"fifteen\", \"fify\", \"fill\", \"find\", \"fire\", \"first\", \"five\", \"for\", \"former\", \"formerly\", \"forty\", \"found\", \"four\", \"from\", \"front\", \"full\", \"further\", \"get\", \"give\", \"go\", \"had\", \"has\", \"hasnt\", \"have\", \"he\", \"hence\", \"her\", \"here\", \"hereafter\", \"hereby\", \"herein\", \"hereupon\", \"hers\", \"herself\", \"him\", \"himself\", \"his\", \"how\", \"however\", \"hundred\", \"ie\", \"if\", \"in\", \"inc\", \"indeed\", \"interest\", \"into\", \"is\", \"it\", \"its\", \"itself\", \"keep\", \"last\", \"latter\", \"latterly\", \"least\", \"less\", \"ltd\", \"made\", \"many\", \"may\", \"me\", \"meanwhile\", \"might\", \"mill\", \"mine\", \"more\", \"moreover\", \"most\", \"mostly\", \"move\", \"much\", \"must\", \"my\", \"myself\", \"name\", \"namely\", \"neither\", \"never\", \"nevertheless\", \"next\", \"nine\", \"no\", \"nobody\", \"none\", \"noone\", \"nor\", \"not\", \"nothing\", \"now\", \"nowhere\", \"of\", \"off\", \"often\", \"on\", \"once\", \"one\", \"only\", \"onto\", \"or\", \"other\", \"others\", \"otherwise\", \"our\", \"ours\", \"ourselves\", \"out\", \"over\", \"own\",\"part\", \"per\", \"perhaps\", \"please\", \"put\", \"rather\", \"re\", \"same\", \"see\", \"seem\", \"seemed\", \"seeming\", \"seems\", \"serious\", \"several\", \"she\", \"should\", \"show\", \"side\", \"since\", \"sincere\", \"six\", \"sixty\", \"so\", \"some\", \"somehow\", \"someone\", \"something\", \"sometime\", \"sometimes\", \"somewhere\", \"still\", \"such\", \"system\", \"take\", \"ten\", \"than\", \"that\", \"the\", \"their\", \"them\", \"themselves\", \"then\", \"thence\", \"there\", \"thereafter\", \"thereby\", \"therefore\", \"therein\", \"thereupon\", \"these\", \"they\", \"thick\", \"thin\", \"third\", \"this\", \"those\", \"though\", \"three\", \"through\", \"throughout\", \"thru\", \"thus\", \"to\", \"together\", \"too\", \"top\", \"toward\", \"towards\", \"twelve\", \"twenty\", \"two\", \"un\", \"under\", \"until\", \"up\", \"upon\", \"us\", \"very\", \"via\", \"was\", \"we\", \"well\", \"were\", \"what\", \"whatever\", \"when\", \"whence\", \"whenever\", \"where\", \"whereafter\", \"whereas\", \"whereby\", \"wherein\", \"whereupon\", \"wherever\", \"whether\", \"which\", \"while\", \"whither\", \"who\", \"whoever\", \"whole\", \"whom\", \"whose\", \"why\", \"will\", \"with\", \"within\", \"without\", \"would\", \"yet\", \"you\", \"your\", \"yours\", \"yourself\", \"yourselves\", \"the\"]"
      ],
      "execution_count": 83,
      "outputs": []
    },
    {
      "cell_type": "code",
      "metadata": {
        "id": "MzA_ixWI22uH"
      },
      "source": [
        "dic = {}\r\n",
        "for i in words:\r\n",
        "  if i  not in stopwords and len(i)>2:\r\n",
        "    if i not in dic:\r\n",
        "      dic[i] = 1\r\n",
        "    else:\r\n",
        "      dic[i] = dic[i] + 1"
      ],
      "execution_count": 87,
      "outputs": []
    },
    {
      "cell_type": "code",
      "metadata": {
        "id": "48gWkjzc3teV"
      },
      "source": [
        "swd = sorted(dic.items(),key = lambda e: e[1], reverse=True)\r\n"
      ],
      "execution_count": 88,
      "outputs": []
    },
    {
      "cell_type": "code",
      "metadata": {
        "colab": {
          "base_uri": "https://localhost:8080/"
        },
        "id": "orGE2E-R3t-H",
        "outputId": "b93ba782-e436-49f6-d136-1485d57da48b"
      },
      "source": [
        "for k, v in swd[0:10]:\r\n",
        "  print(k,v)"
      ],
      "execution_count": 89,
      "outputs": [
        {
          "output_type": "stream",
          "text": [
            "american 11\n",
            "america 10\n",
            "again. 8\n",
            "president 6\n",
            "people 6\n",
            "great 6\n",
            "country 6\n",
            "new 6\n",
            "right 5\n",
            "make 5\n"
          ],
          "name": "stdout"
        }
      ]
    },
    {
      "cell_type": "code",
      "metadata": {
        "id": "JU0mxscl47Xd"
      },
      "source": [
        ""
      ],
      "execution_count": null,
      "outputs": []
    }
  ]
}